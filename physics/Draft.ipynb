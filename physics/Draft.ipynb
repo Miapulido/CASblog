{
 "cells": [
  {
   "cell_type": "code",
   "execution_count": 12,
   "metadata": {},
   "outputs": [],
   "source": [
    "import math"
   ]
  },
  {
   "cell_type": "code",
   "execution_count": 2,
   "metadata": {},
   "outputs": [],
   "source": [
    "incident_angle = 30"
   ]
  },
  {
   "cell_type": "code",
   "execution_count": 20,
   "metadata": {},
   "outputs": [],
   "source": [
    "medium_1 = \"vacuum\"\n",
    "medium_2 = \"quartz\""
   ]
  },
  {
   "cell_type": "code",
   "execution_count": 27,
   "metadata": {},
   "outputs": [],
   "source": [
    "def cal_refracted_angle(incident_angle, medium_1, medium_2):\n",
    "    medium_indices = {\n",
    "      \"vacuum\": 1,\n",
    "      \"water\": 1.33,\n",
    "      \"acetone\": 1.36,\n",
    "      \"quartz\": 1.46,\n",
    "      \"crown glass\": 1.52,\n",
    "      \"sapphire\": 1.77,\n",
    "      \"diamond\": 2.42\n",
    "    }\n",
    "    index_1 = medium_indices[medium_1]\n",
    "    index_2 = medium_indices[medium_2]\n",
    "    \n",
    "    sin_incident_angle = math.sin(math.radians(incident_angle))\n",
    "    refracted_angle_radians = math.asin((sin_incident_angle*index_1)/index_2)\n",
    "    return math.degrees(refracted_angle_radians)"
   ]
  },
  {
   "cell_type": "code",
   "execution_count": 30,
   "metadata": {},
   "outputs": [
    {
     "data": {
      "text/plain": [
       "20.02717248395857"
      ]
     },
     "execution_count": 30,
     "metadata": {},
     "output_type": "execute_result"
    }
   ],
   "source": [
    "cal_refracted_angle(incident_angle, medium_1, medium_2)"
   ]
  }
 ],
 "metadata": {
  "kernelspec": {
   "display_name": "Python 2",
   "language": "python",
   "name": "python2"
  },
  "language_info": {
   "codemirror_mode": {
    "name": "ipython",
    "version": 2
   },
   "file_extension": ".py",
   "mimetype": "text/x-python",
   "name": "python",
   "nbconvert_exporter": "python",
   "pygments_lexer": "ipython2",
   "version": "2.7.10"
  }
 },
 "nbformat": 4,
 "nbformat_minor": 2
}
