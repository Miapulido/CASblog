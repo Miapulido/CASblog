{
 "cells": [
  {
   "cell_type": "code",
   "execution_count": 29,
   "metadata": {},
   "outputs": [],
   "source": [
    "import math"
   ]
  },
  {
   "cell_type": "code",
   "execution_count": 2,
   "metadata": {},
   "outputs": [],
   "source": [
    "incident_angle = 30"
   ]
  },
  {
   "cell_type": "code",
   "execution_count": 20,
   "metadata": {},
   "outputs": [],
   "source": [
    "medium_1 = \"vacuum\"\n",
    "medium_2 = \"quartz\""
   ]
  },
  {
   "cell_type": "code",
   "execution_count": 27,
   "metadata": {},
   "outputs": [],
   "source": [
    "def cal_refracted_angle(incident_angle, medium_1, medium_2):\n",
    "    medium_indices = {\n",
    "      \"vacuum\": 1,\n",
    "      \"water\": 1.33,\n",
    "      \"acetone\": 1.36,\n",
    "      \"quartz\": 1.46,\n",
    "      \"crown glass\": 1.52,\n",
    "      \"sapphire\": 1.77,\n",
    "      \"diamond\": 2.42\n",
    "    }\n",
    "    index_1 = medium_indices[medium_1]\n",
    "    index_2 = medium_indices[medium_2]\n",
    "    \n",
    "    sin_incident_angle = math.sin(math.radians(incident_angle))\n",
    "    refracted_angle_radians = math.asin((sin_incident_angle*index_1)/index_2)\n",
    "    return math.degrees(refracted_angle_radians)"
   ]
  },
  {
   "cell_type": "code",
   "execution_count": 30,
   "metadata": {},
   "outputs": [
    {
     "data": {
      "text/plain": [
       "20.02717248395857"
      ]
     },
     "execution_count": 30,
     "metadata": {},
     "output_type": "execute_result"
    }
   ],
   "source": [
    "cal_refracted_angle(incident_angle, medium_1, medium_2)"
   ]
  },
  {
   "cell_type": "code",
   "execution_count": null,
   "metadata": {},
   "outputs": [],
   "source": []
  },
  {
   "cell_type": "code",
   "execution_count": 5,
   "metadata": {},
   "outputs": [],
   "source": [
    "from PIL import Image, ImageDraw"
   ]
  },
  {
   "cell_type": "code",
   "execution_count": 98,
   "metadata": {},
   "outputs": [],
   "source": [
    "im = Image.open(\"white.png\")"
   ]
  },
  {
   "cell_type": "code",
   "execution_count": 99,
   "metadata": {},
   "outputs": [],
   "source": [
    "draw = ImageDraw.Draw(im)"
   ]
  },
  {
   "cell_type": "code",
   "execution_count": 81,
   "metadata": {},
   "outputs": [],
   "source": [
    "width = 1024.0"
   ]
  },
  {
   "cell_type": "code",
   "execution_count": 82,
   "metadata": {},
   "outputs": [],
   "source": [
    "height = 1024.0"
   ]
  },
  {
   "cell_type": "code",
   "execution_count": 100,
   "metadata": {},
   "outputs": [],
   "source": [
    "draw.line([(0, height/2),(width, height/2)])"
   ]
  },
  {
   "cell_type": "code",
   "execution_count": 101,
   "metadata": {},
   "outputs": [],
   "source": [
    "draw.line([(width/2, 0),(width/2, height)])"
   ]
  },
  {
   "cell_type": "code",
   "execution_count": 102,
   "metadata": {},
   "outputs": [],
   "source": [
    "incident_angle = 20"
   ]
  },
  {
   "cell_type": "code",
   "execution_count": 103,
   "metadata": {},
   "outputs": [],
   "source": [
    "refracted_angle = 20"
   ]
  },
  {
   "cell_type": "code",
   "execution_count": 104,
   "metadata": {},
   "outputs": [],
   "source": [
    "incident_y = math.tan(math.radians(90-incident_angle))*(width/2)"
   ]
  },
  {
   "cell_type": "code",
   "execution_count": 105,
   "metadata": {},
   "outputs": [],
   "source": [
    "incident_line = [(0, (height/2)-incident_y),(width/2, height/2)]\n",
    "draw.line(incident_line)"
   ]
  },
  {
   "cell_type": "code",
   "execution_count": 106,
   "metadata": {},
   "outputs": [],
   "source": [
    "refracted_y = math.tan(math.radians(90-refracted_angle))*(width/2)"
   ]
  },
  {
   "cell_type": "code",
   "execution_count": 110,
   "metadata": {},
   "outputs": [],
   "source": [
    "refracted_line = [(width/2, height/2),(width, (height/2)+refracted_y)]\n",
    "draw.line(refracted_line)"
   ]
  },
  {
   "cell_type": "code",
   "execution_count": null,
   "metadata": {},
   "outputs": [],
   "source": []
  },
  {
   "cell_type": "code",
   "execution_count": 111,
   "metadata": {},
   "outputs": [],
   "source": [
    "im.show()"
   ]
  },
  {
   "cell_type": "code",
   "execution_count": null,
   "metadata": {},
   "outputs": [],
   "source": [
    "\n",
    "\n",
    "\n",
    "\n",
    "draw = ImageDraw.Draw(im)\n",
    "draw.line((0, 0) + im.size, fill=128)\n",
    "draw.line((0, im.size[1], im.size[0], 0), fill=128)\n",
    "del draw\n",
    "\n",
    "# write to stdout\n",
    "im.save(sys.stdout, \"PNG\")"
   ]
  },
  {
   "cell_type": "code",
   "execution_count": 3,
   "metadata": {},
   "outputs": [],
   "source": [
    "from PIL import ImageDraw, ImageColor"
   ]
  },
  {
   "cell_type": "code",
   "execution_count": 4,
   "metadata": {},
   "outputs": [
    {
     "ename": "AttributeError",
     "evalue": "'function' object has no attribute 'line'",
     "output_type": "error",
     "traceback": [
      "\u001b[0;31m---------------------------------------------------------------------------\u001b[0m",
      "\u001b[0;31mAttributeError\u001b[0m                            Traceback (most recent call last)",
      "\u001b[0;32m<ipython-input-4-d4d0c85adaf8>\u001b[0m in \u001b[0;36m<module>\u001b[0;34m()\u001b[0m\n\u001b[0;32m----> 1\u001b[0;31m \u001b[0mImageDraw\u001b[0m\u001b[0;34m.\u001b[0m\u001b[0mDraw\u001b[0m\u001b[0;34m.\u001b[0m\u001b[0mline\u001b[0m\u001b[0;34m(\u001b[0m\u001b[0;34m[\u001b[0m\u001b[0;34m(\u001b[0m\u001b[0;36m0\u001b[0m\u001b[0;34m,\u001b[0m \u001b[0;36m0\u001b[0m\u001b[0;34m)\u001b[0m\u001b[0;34m,\u001b[0m\u001b[0;34m(\u001b[0m\u001b[0;36m1\u001b[0m\u001b[0;34m,\u001b[0m \u001b[0;36m1\u001b[0m\u001b[0;34m)\u001b[0m\u001b[0;34m]\u001b[0m\u001b[0;34m)\u001b[0m\u001b[0;34m\u001b[0m\u001b[0m\n\u001b[0m",
      "\u001b[0;31mAttributeError\u001b[0m: 'function' object has no attribute 'line'"
     ]
    }
   ],
   "source": [
    "ImageDraw.Draw.line([(0, 0),(1, 1)])"
   ]
  },
  {
   "cell_type": "code",
   "execution_count": 2,
   "metadata": {},
   "outputs": [
    {
     "ename": "NameError",
     "evalue": "name 'im' is not defined",
     "output_type": "error",
     "traceback": [
      "\u001b[0;31m---------------------------------------------------------------------------\u001b[0m",
      "\u001b[0;31mNameError\u001b[0m                                 Traceback (most recent call last)",
      "\u001b[0;32m<ipython-input-2-e5e3992a7154>\u001b[0m in \u001b[0;36m<module>\u001b[0;34m()\u001b[0m\n\u001b[0;32m----> 1\u001b[0;31m \u001b[0mdraw\u001b[0m \u001b[0;34m=\u001b[0m \u001b[0mImageDraw\u001b[0m\u001b[0;34m.\u001b[0m\u001b[0mDraw\u001b[0m\u001b[0;34m(\u001b[0m\u001b[0mim\u001b[0m\u001b[0;34m)\u001b[0m\u001b[0;34m\u001b[0m\u001b[0m\n\u001b[0m\u001b[1;32m      2\u001b[0m \u001b[0mdraw\u001b[0m\u001b[0;34m.\u001b[0m\u001b[0mline\u001b[0m\u001b[0;34m(\u001b[0m\u001b[0;34m(\u001b[0m\u001b[0;36m0\u001b[0m\u001b[0;34m,\u001b[0m \u001b[0;36m0\u001b[0m\u001b[0;34m)\u001b[0m \u001b[0;34m+\u001b[0m \u001b[0mim\u001b[0m\u001b[0;34m.\u001b[0m\u001b[0msize\u001b[0m\u001b[0;34m,\u001b[0m \u001b[0mfill\u001b[0m\u001b[0;34m=\u001b[0m\u001b[0;36m128\u001b[0m\u001b[0;34m)\u001b[0m\u001b[0;34m\u001b[0m\u001b[0m\n\u001b[1;32m      3\u001b[0m \u001b[0mdraw\u001b[0m\u001b[0;34m.\u001b[0m\u001b[0mline\u001b[0m\u001b[0;34m(\u001b[0m\u001b[0;34m(\u001b[0m\u001b[0;36m0\u001b[0m\u001b[0;34m,\u001b[0m \u001b[0mim\u001b[0m\u001b[0;34m.\u001b[0m\u001b[0msize\u001b[0m\u001b[0;34m[\u001b[0m\u001b[0;36m1\u001b[0m\u001b[0;34m]\u001b[0m\u001b[0;34m,\u001b[0m \u001b[0mim\u001b[0m\u001b[0;34m.\u001b[0m\u001b[0msize\u001b[0m\u001b[0;34m[\u001b[0m\u001b[0;36m0\u001b[0m\u001b[0;34m]\u001b[0m\u001b[0;34m,\u001b[0m \u001b[0;36m0\u001b[0m\u001b[0;34m)\u001b[0m\u001b[0;34m,\u001b[0m \u001b[0mfill\u001b[0m\u001b[0;34m=\u001b[0m\u001b[0;36m128\u001b[0m\u001b[0;34m)\u001b[0m\u001b[0;34m\u001b[0m\u001b[0m\n\u001b[1;32m      4\u001b[0m \u001b[0;32mdel\u001b[0m \u001b[0mdraw\u001b[0m\u001b[0;34m\u001b[0m\u001b[0m\n",
      "\u001b[0;31mNameError\u001b[0m: name 'im' is not defined"
     ]
    }
   ],
   "source": [
    "draw = ImageDraw.Draw(im)\n",
    "draw.line((0, 0) + im.size, fill=128)\n",
    "draw.line((0, im.size[1], im.size[0], 0), fill=128)\n",
    "del draw"
   ]
  },
  {
   "cell_type": "code",
   "execution_count": null,
   "metadata": {},
   "outputs": [],
   "source": []
  },
  {
   "cell_type": "code",
   "execution_count": 5,
   "metadata": {},
   "outputs": [
    {
     "data": {
      "text/plain": [
       "{'aliceblue': '#f0f8ff',\n",
       " 'antiquewhite': '#faebd7',\n",
       " 'aqua': '#00ffff',\n",
       " 'aquamarine': '#7fffd4',\n",
       " 'azure': '#f0ffff',\n",
       " 'beige': '#f5f5dc',\n",
       " 'bisque': '#ffe4c4',\n",
       " 'black': '#000000',\n",
       " 'blanchedalmond': '#ffebcd',\n",
       " 'blue': '#0000ff',\n",
       " 'blueviolet': '#8a2be2',\n",
       " 'brown': '#a52a2a',\n",
       " 'burlywood': '#deb887',\n",
       " 'cadetblue': '#5f9ea0',\n",
       " 'chartreuse': '#7fff00',\n",
       " 'chocolate': '#d2691e',\n",
       " 'coral': '#ff7f50',\n",
       " 'cornflowerblue': '#6495ed',\n",
       " 'cornsilk': '#fff8dc',\n",
       " 'crimson': '#dc143c',\n",
       " 'cyan': '#00ffff',\n",
       " 'darkblue': '#00008b',\n",
       " 'darkcyan': '#008b8b',\n",
       " 'darkgoldenrod': '#b8860b',\n",
       " 'darkgray': '#a9a9a9',\n",
       " 'darkgreen': '#006400',\n",
       " 'darkgrey': '#a9a9a9',\n",
       " 'darkkhaki': '#bdb76b',\n",
       " 'darkmagenta': '#8b008b',\n",
       " 'darkolivegreen': '#556b2f',\n",
       " 'darkorange': '#ff8c00',\n",
       " 'darkorchid': '#9932cc',\n",
       " 'darkred': '#8b0000',\n",
       " 'darksalmon': '#e9967a',\n",
       " 'darkseagreen': '#8fbc8f',\n",
       " 'darkslateblue': '#483d8b',\n",
       " 'darkslategray': '#2f4f4f',\n",
       " 'darkslategrey': '#2f4f4f',\n",
       " 'darkturquoise': '#00ced1',\n",
       " 'darkviolet': '#9400d3',\n",
       " 'deeppink': '#ff1493',\n",
       " 'deepskyblue': '#00bfff',\n",
       " 'dimgray': '#696969',\n",
       " 'dimgrey': '#696969',\n",
       " 'dodgerblue': '#1e90ff',\n",
       " 'firebrick': '#b22222',\n",
       " 'floralwhite': '#fffaf0',\n",
       " 'forestgreen': '#228b22',\n",
       " 'fuchsia': '#ff00ff',\n",
       " 'gainsboro': '#dcdcdc',\n",
       " 'ghostwhite': '#f8f8ff',\n",
       " 'gold': '#ffd700',\n",
       " 'goldenrod': '#daa520',\n",
       " 'gray': '#808080',\n",
       " 'green': '#008000',\n",
       " 'greenyellow': '#adff2f',\n",
       " 'grey': '#808080',\n",
       " 'honeydew': '#f0fff0',\n",
       " 'hotpink': '#ff69b4',\n",
       " 'indianred': '#cd5c5c',\n",
       " 'indigo': '#4b0082',\n",
       " 'ivory': '#fffff0',\n",
       " 'khaki': '#f0e68c',\n",
       " 'lavender': '#e6e6fa',\n",
       " 'lavenderblush': '#fff0f5',\n",
       " 'lawngreen': '#7cfc00',\n",
       " 'lemonchiffon': '#fffacd',\n",
       " 'lightblue': '#add8e6',\n",
       " 'lightcoral': '#f08080',\n",
       " 'lightcyan': '#e0ffff',\n",
       " 'lightgoldenrodyellow': '#fafad2',\n",
       " 'lightgray': '#d3d3d3',\n",
       " 'lightgreen': '#90ee90',\n",
       " 'lightgrey': '#d3d3d3',\n",
       " 'lightpink': '#ffb6c1',\n",
       " 'lightsalmon': '#ffa07a',\n",
       " 'lightseagreen': '#20b2aa',\n",
       " 'lightskyblue': '#87cefa',\n",
       " 'lightslategray': '#778899',\n",
       " 'lightslategrey': '#778899',\n",
       " 'lightsteelblue': '#b0c4de',\n",
       " 'lightyellow': '#ffffe0',\n",
       " 'lime': '#00ff00',\n",
       " 'limegreen': '#32cd32',\n",
       " 'linen': '#faf0e6',\n",
       " 'magenta': '#ff00ff',\n",
       " 'maroon': '#800000',\n",
       " 'mediumaquamarine': '#66cdaa',\n",
       " 'mediumblue': '#0000cd',\n",
       " 'mediumorchid': '#ba55d3',\n",
       " 'mediumpurple': '#9370db',\n",
       " 'mediumseagreen': '#3cb371',\n",
       " 'mediumslateblue': '#7b68ee',\n",
       " 'mediumspringgreen': '#00fa9a',\n",
       " 'mediumturquoise': '#48d1cc',\n",
       " 'mediumvioletred': '#c71585',\n",
       " 'midnightblue': '#191970',\n",
       " 'mintcream': '#f5fffa',\n",
       " 'mistyrose': '#ffe4e1',\n",
       " 'moccasin': '#ffe4b5',\n",
       " 'navajowhite': '#ffdead',\n",
       " 'navy': '#000080',\n",
       " 'oldlace': '#fdf5e6',\n",
       " 'olive': '#808000',\n",
       " 'olivedrab': '#6b8e23',\n",
       " 'orange': '#ffa500',\n",
       " 'orangered': '#ff4500',\n",
       " 'orchid': '#da70d6',\n",
       " 'palegoldenrod': '#eee8aa',\n",
       " 'palegreen': '#98fb98',\n",
       " 'paleturquoise': '#afeeee',\n",
       " 'palevioletred': '#db7093',\n",
       " 'papayawhip': '#ffefd5',\n",
       " 'peachpuff': '#ffdab9',\n",
       " 'peru': '#cd853f',\n",
       " 'pink': '#ffc0cb',\n",
       " 'plum': '#dda0dd',\n",
       " 'powderblue': '#b0e0e6',\n",
       " 'purple': '#800080',\n",
       " 'rebeccapurple': '#663399',\n",
       " 'red': '#ff0000',\n",
       " 'rosybrown': '#bc8f8f',\n",
       " 'royalblue': '#4169e1',\n",
       " 'saddlebrown': '#8b4513',\n",
       " 'salmon': '#fa8072',\n",
       " 'sandybrown': '#f4a460',\n",
       " 'seagreen': '#2e8b57',\n",
       " 'seashell': '#fff5ee',\n",
       " 'sienna': '#a0522d',\n",
       " 'silver': '#c0c0c0',\n",
       " 'skyblue': '#87ceeb',\n",
       " 'slateblue': '#6a5acd',\n",
       " 'slategray': '#708090',\n",
       " 'slategrey': '#708090',\n",
       " 'snow': '#fffafa',\n",
       " 'springgreen': '#00ff7f',\n",
       " 'steelblue': '#4682b4',\n",
       " 'tan': '#d2b48c',\n",
       " 'teal': '#008080',\n",
       " 'thistle': '#d8bfd8',\n",
       " 'tomato': '#ff6347',\n",
       " 'turquoise': '#40e0d0',\n",
       " 'violet': '#ee82ee',\n",
       " 'wheat': '#f5deb3',\n",
       " 'white': '#ffffff',\n",
       " 'whitesmoke': '#f5f5f5',\n",
       " 'yellow': '#ffff00',\n",
       " 'yellowgreen': '#9acd32'}"
      ]
     },
     "execution_count": 5,
     "metadata": {},
     "output_type": "execute_result"
    }
   ],
   "source": [
    "ImageColor.colormap"
   ]
  },
  {
   "cell_type": "code",
   "execution_count": null,
   "metadata": {},
   "outputs": [],
   "source": []
  }
 ],
 "metadata": {
  "kernelspec": {
   "display_name": "Python 2",
   "language": "python",
   "name": "python2"
  },
  "language_info": {
   "codemirror_mode": {
    "name": "ipython",
    "version": 2
   },
   "file_extension": ".py",
   "mimetype": "text/x-python",
   "name": "python",
   "nbconvert_exporter": "python",
   "pygments_lexer": "ipython2",
   "version": "2.7.10"
  }
 },
 "nbformat": 4,
 "nbformat_minor": 2
}
